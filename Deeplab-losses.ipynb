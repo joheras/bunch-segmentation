{
 "cells": [
  {
   "cell_type": "code",
   "execution_count": 1,
   "metadata": {},
   "outputs": [
    {
     "name": "stderr",
     "output_type": "stream",
     "text": [
      "/home/jonathan/.virtualenvs/segmentation/lib/python3.6/site-packages/torch/nn/_reduction.py:44: UserWarning: size_average and reduce args will be deprecated, please use reduction='mean' instead.\n",
      "  warnings.warn(warning.format(ret))\n"
     ]
    }
   ],
   "source": [
    "from fastai.basics import *\n",
    "from fastai.vision import models\n",
    "from fastai.vision.all import *\n",
    "from fastai.metrics import *\n",
    "from fastai.data.all import *\n",
    "from fastai.callback import *\n",
    "\n",
    "# SemTorch\n",
    "from semtorch import get_segmentation_learner\n",
    "\n",
    "from pathlib import Path\n",
    "import random"
   ]
  },
  {
   "cell_type": "code",
   "execution_count": 2,
   "metadata": {},
   "outputs": [],
   "source": [
    "import torch\n",
    "torch.cuda.set_device(0)"
   ]
  },
  {
   "cell_type": "code",
   "execution_count": 3,
   "metadata": {},
   "outputs": [],
   "source": [
    "%matplotlib inline\n",
    "import numpy as np"
   ]
  },
  {
   "cell_type": "markdown",
   "metadata": {},
   "source": [
    "\n",
    "\n",
    "Function por stablishing the seed for reproducibility\n"
   ]
  },
  {
   "cell_type": "code",
   "execution_count": 4,
   "metadata": {},
   "outputs": [],
   "source": [
    "number_of_the_seed = 2020\n",
    "\n",
    "random.seed(number_of_the_seed)\n",
    "set_seed(number_of_the_seed)\n",
    "torch.backends.cudnn.deterministic = True\n",
    "torch.backends.cudnn.benchmark = False"
   ]
  },
  {
   "cell_type": "code",
   "execution_count": 5,
   "metadata": {},
   "outputs": [],
   "source": [
    "path = Path(\"dataset/\")\n",
    "path_images = path/\"Images\"\n",
    "path_labels = path/\"Labels\"\n",
    "\n",
    "test_name = \"test\""
   ]
  },
  {
   "cell_type": "markdown",
   "metadata": {},
   "source": [
    "Obtaining the label associated with an image, in the case of segmentation it is a mask"
   ]
  },
  {
   "cell_type": "code",
   "execution_count": 6,
   "metadata": {},
   "outputs": [],
   "source": [
    "get_y_fn = lambda x: Path(str(x).replace(\"Images\",\"Labels\").replace(\"color\",\"gt\").replace(\".jpg\",\".png\"))"
   ]
  },
  {
   "cell_type": "markdown",
   "metadata": {},
   "source": [
    "\n",
    "\n",
    "Aux function for splitting between training and testing\n"
   ]
  },
  {
   "cell_type": "code",
   "execution_count": 7,
   "metadata": {},
   "outputs": [],
   "source": [
    "def ParentSplitter(x):\n",
    "    return Path(x).parent.name==test_name"
   ]
  },
  {
   "cell_type": "markdown",
   "metadata": {},
   "source": [
    "Loading the codes of the different classes. All the datasets have the same codes."
   ]
  },
  {
   "cell_type": "code",
   "execution_count": 8,
   "metadata": {},
   "outputs": [],
   "source": [
    "codes = np.loadtxt(path/'codes.txt', dtype=str)"
   ]
  },
  {
   "cell_type": "code",
   "execution_count": 9,
   "metadata": {},
   "outputs": [],
   "source": [
    "def msa(input, target):\n",
    "    target = target.squeeze(1)\n",
    "    mask = target != -1\n",
    "    return (input.argmax(dim=1)[mask]==target[mask]).float().mean()\n",
    "\n",
    "def background(input, target):\n",
    "    target = target.squeeze(1)\n",
    "    mask = target != 0\n",
    "    return (input.argmax(dim=1)[mask]==target[mask]).float().mean()\n",
    "\n",
    "def leaves(input, target):\n",
    "    target = target.squeeze(1)\n",
    "    mask = target != 1\n",
    "    return (input.argmax(dim=1)[mask]==target[mask]).float().mean()\n",
    "\n",
    "def wood(input, target):\n",
    "    target = target.squeeze(1)\n",
    "    mask = target != 2\n",
    "    return (input.argmax(dim=1)[mask]==target[mask]).float().mean()\n",
    "\n",
    "def pole(input, target):\n",
    "    target = target.squeeze(1)\n",
    "    mask = target != 3\n",
    "    return (input.argmax(dim=1)[mask]==target[mask]).float().mean()\n",
    "\n",
    "def grape(input, target):\n",
    "    target = target.squeeze(1)\n",
    "    mask = target != 4\n",
    "    return (input.argmax(dim=1)[mask]==target[mask]).float().mean()"
   ]
  },
  {
   "cell_type": "markdown",
   "metadata": {},
   "source": [
    "Early Stopping parameters"
   ]
  },
  {
   "cell_type": "code",
   "execution_count": 10,
   "metadata": {},
   "outputs": [],
   "source": [
    "monitor_training=\"valid_loss\"\n",
    "comp_training=np.less\n",
    "\n",
    "monitor_evaluating=\"dice\"\n",
    "comp_evaluating=np.greater\n",
    "\n",
    "patience=3"
   ]
  },
  {
   "cell_type": "code",
   "execution_count": 11,
   "metadata": {},
   "outputs": [],
   "source": [
    "from albumentations import (\n",
    "    Compose,\n",
    "    OneOf,\n",
    "    ElasticTransform,\n",
    "    GridDistortion, \n",
    "    OpticalDistortion,\n",
    "    Flip,\n",
    "    Rotate,\n",
    "    Transpose,\n",
    "    CLAHE,\n",
    "    ShiftScaleRotate\n",
    ")"
   ]
  },
  {
   "cell_type": "code",
   "execution_count": 12,
   "metadata": {},
   "outputs": [],
   "source": [
    "class SegmentationAlbumentationsTransform(ItemTransform):\n",
    "    split_idx = 0\n",
    "    def __init__(self, aug): \n",
    "        self.aug = aug\n",
    "    def encodes(self, x):\n",
    "        img,mask = x\n",
    "        aug = self.aug(image=np.array(img), mask=np.array(mask))\n",
    "        return PILImage.create(aug[\"image\"]), PILMask.create(aug[\"mask\"])\n",
    "    \n",
    "transformPipeline=Compose([\n",
    "                        Flip(p=0.5),\n",
    "                        Transpose(p=0.5),\n",
    "                        Rotate(p=0.40,limit=10),GridDistortion()\n",
    "                    ],p=1)\n",
    "\n",
    "transformPipeline=SegmentationAlbumentationsTransform(transformPipeline)"
   ]
  },
  {
   "cell_type": "code",
   "execution_count": 13,
   "metadata": {},
   "outputs": [],
   "source": [
    "class TargetMaskConvertTransform(ItemTransform):\n",
    "    def __init__(self): \n",
    "        pass\n",
    "    def encodes(self, x):\n",
    "        img,mask = x\n",
    "        \n",
    "        #Convert to array\n",
    "        mask = np.array(mask)\n",
    "        \n",
    "        # Change 255 for 4\n",
    "        mask[mask==255]=4\n",
    "        mask[mask==150]=1\n",
    "        mask[mask==76]=3\n",
    "        mask[mask==74]=3\n",
    "        mask[mask==29]=2\n",
    "        mask[mask==25]=2\n",
    "        \n",
    "        # Back to PILMask\n",
    "        mask = PILMask.create(mask)\n",
    "        return img, mask"
   ]
  },
  {
   "cell_type": "code",
   "execution_count": 14,
   "metadata": {},
   "outputs": [],
   "source": [
    "path_manual_img = path_images/'train'\n",
    "path_manual_lbl = path_labels/'train'"
   ]
  },
  {
   "cell_type": "code",
   "execution_count": 15,
   "metadata": {},
   "outputs": [
    {
     "name": "stdout",
     "output_type": "stream",
     "text": [
      "dataset/Images/train/color_159.jpg\n"
     ]
    },
    {
     "data": {
      "text/plain": [
       "<AxesSubplot:>"
      ]
     },
     "execution_count": 15,
     "metadata": {},
     "output_type": "execute_result"
    },
    {
     "data": {
      "image/png": "[encoded data removed]",
      "text/plain": [
       "<Figure size 360x360 with 1 Axes>"
      ]
     },
     "metadata": {
      "needs_background": "light"
     },
     "output_type": "display_data"
    }
   ],
   "source": [
    "fnames_manual = get_image_files(path_manual_img)\n",
    "lbl_names_manual = get_image_files(path_manual_lbl)\n",
    "\n",
    "# open and show image\n",
    "img_f = fnames_manual[10]\n",
    "print(img_f)\n",
    "img = PILImage.create(img_f)\n",
    "img.show(figsize=(5, 5))"
   ]
  },
  {
   "cell_type": "code",
   "execution_count": 16,
   "metadata": {},
   "outputs": [
    {
     "name": "stdout",
     "output_type": "stream",
     "text": [
      "dataset/Labels/train/gt_159.png\n"
     ]
    }
   ],
   "source": [
    "print(get_y_fn(img_f))"
   ]
  },
  {
   "cell_type": "code",
   "execution_count": 17,
   "metadata": {},
   "outputs": [
    {
     "data": {
      "text/plain": [
       "<AxesSubplot:>"
      ]
     },
     "execution_count": 17,
     "metadata": {},
     "output_type": "execute_result"
    },
    {
     "data": {
      "image/png": "[encoded data removed]",
      "text/plain": [
       "<Figure size 360x360 with 1 Axes>"
      ]
     },
     "metadata": {
      "needs_background": "light"
     },
     "output_type": "display_data"
    }
   ],
   "source": [
    "mask = PILMask.create(get_y_fn(img_f))\n",
    "mask.show(figsize=(5, 5), alpha=1)"
   ]
  },
  {
   "cell_type": "code",
   "execution_count": 18,
   "metadata": {},
   "outputs": [
    {
     "data": {
      "text/plain": [
       "array([  0,  29,  76, 150, 255], dtype=uint8)"
      ]
     },
     "execution_count": 18,
     "metadata": {},
     "output_type": "execute_result"
    }
   ],
   "source": [
    "np.unique(np.array(mask))"
   ]
  },
  {
   "cell_type": "code",
   "execution_count": 19,
   "metadata": {},
   "outputs": [],
   "source": [
    "bs = 4"
   ]
  },
  {
   "cell_type": "code",
   "execution_count": 20,
   "metadata": {},
   "outputs": [
    {
     "data": {
      "text/plain": [
       "array(['Background', 'Leaves', 'Wood', 'Pole', 'Grape'], dtype='<U10')"
      ]
     },
     "execution_count": 20,
     "metadata": {},
     "output_type": "execute_result"
    }
   ],
   "source": [
    "codes"
   ]
  },
  {
   "cell_type": "code",
   "execution_count": 21,
   "metadata": {},
   "outputs": [],
   "source": [
    "def my_get_items(folders,path):\n",
    "    return (get_image_files(path))"
   ]
  },
  {
   "cell_type": "code",
   "execution_count": 22,
   "metadata": {},
   "outputs": [],
   "source": [
    "manual = DataBlock(blocks=(ImageBlock, MaskBlock(codes)),\n",
    "                   get_items=partial(get_image_files,folders=['train','test']),\n",
    "                   get_y=get_y_fn,\n",
    "                   splitter=FuncSplitter(ParentSplitter),\n",
    "                   item_tfms=[Resize((480,640)), TargetMaskConvertTransform(), transformPipeline],\n",
    "                   batch_tfms=Normalize.from_stats(*imagenet_stats)\n",
    "                  )\n",
    "#manual.summary(path_images)\n",
    "dls = manual.dataloaders(path_images,bs=bs)\n",
    "#dls.show_batch(vmin=0,vmax=1,figsize=(12, 9))"
   ]
  },
  {
   "cell_type": "code",
   "execution_count": 23,
   "metadata": {},
   "outputs": [],
   "source": [
    "#x,mask=dls.one_batch()"
   ]
  },
  {
   "cell_type": "markdown",
   "metadata": {},
   "source": [
    "# Weighted loss"
   ]
  },
  {
   "cell_type": "code",
   "execution_count": 32,
   "metadata": {},
   "outputs": [],
   "source": [
    "learn = get_segmentation_learner(dls=dls, number_classes=5, segmentation_type=\"Semantic Segmentation\",\n",
    "                                 architecture_name=\"deeplabv3+\", backbone_name=\"resnet50\",\n",
    "                                 metrics=[background,leaves,pole,grape,wood,msa],\n",
    "                                 pretrained=True,normalize=True).to_fp16()"
   ]
  },
  {
   "cell_type": "code",
   "execution_count": 33,
   "metadata": {},
   "outputs": [],
   "source": [
    "learn.loss_func = nn.CrossEntropyLoss(Tensor([13,20,10,2,0.01]).cuda())"
   ]
  },
  {
   "cell_type": "code",
   "execution_count": 34,
   "metadata": {},
   "outputs": [
    {
     "data": {
      "text/html": [
       "<table border=\"1\" class=\"dataframe\">\n",
       "  <thead>\n",
       "    <tr style=\"text-align: left;\">\n",
       "      <th>epoch</th>\n",
       "      <th>train_loss</th>\n",
       "      <th>valid_loss</th>\n",
       "      <th>background</th>\n",
       "      <th>leaves</th>\n",
       "      <th>pole</th>\n",
       "      <th>grape</th>\n",
       "      <th>wood</th>\n",
       "      <th>msa</th>\n",
       "      <th>time</th>\n",
       "    </tr>\n",
       "  </thead>\n",
       "  <tbody>\n",
       "    <tr>\n",
       "      <td>0</td>\n",
       "      <td>1.528794</td>\n",
       "      <td>1.598997</td>\n",
       "      <td>0.105987</td>\n",
       "      <td>0.026134</td>\n",
       "      <td>0.037128</td>\n",
       "      <td>0.051633</td>\n",
       "      <td>0.051991</td>\n",
       "      <td>0.051021</td>\n",
       "      <td>00:09</td>\n",
       "    </tr>\n",
       "    <tr>\n",
       "      <td>1</td>\n",
       "      <td>1.145997</td>\n",
       "      <td>0.998915</td>\n",
       "      <td>0.866793</td>\n",
       "      <td>0.490706</td>\n",
       "      <td>0.709069</td>\n",
       "      <td>0.707143</td>\n",
       "      <td>0.712211</td>\n",
       "      <td>0.698951</td>\n",
       "      <td>00:09</td>\n",
       "    </tr>\n",
       "    <tr>\n",
       "      <td>2</td>\n",
       "      <td>0.822156</td>\n",
       "      <td>0.580483</td>\n",
       "      <td>0.717920</td>\n",
       "      <td>0.808164</td>\n",
       "      <td>0.813369</td>\n",
       "      <td>0.811124</td>\n",
       "      <td>0.816889</td>\n",
       "      <td>0.801632</td>\n",
       "      <td>00:09</td>\n",
       "    </tr>\n",
       "    <tr>\n",
       "      <td>3</td>\n",
       "      <td>0.639776</td>\n",
       "      <td>0.691058</td>\n",
       "      <td>0.886631</td>\n",
       "      <td>0.509882</td>\n",
       "      <td>0.725942</td>\n",
       "      <td>0.723926</td>\n",
       "      <td>0.727939</td>\n",
       "      <td>0.715443</td>\n",
       "      <td>00:09</td>\n",
       "    </tr>\n",
       "    <tr>\n",
       "      <td>4</td>\n",
       "      <td>0.515618</td>\n",
       "      <td>0.433022</td>\n",
       "      <td>0.790460</td>\n",
       "      <td>0.761260</td>\n",
       "      <td>0.814619</td>\n",
       "      <td>0.812366</td>\n",
       "      <td>0.809472</td>\n",
       "      <td>0.802877</td>\n",
       "      <td>00:09</td>\n",
       "    </tr>\n",
       "    <tr>\n",
       "      <td>5</td>\n",
       "      <td>0.435129</td>\n",
       "      <td>0.382546</td>\n",
       "      <td>0.855027</td>\n",
       "      <td>0.698101</td>\n",
       "      <td>0.813232</td>\n",
       "      <td>0.811012</td>\n",
       "      <td>0.811152</td>\n",
       "      <td>0.801550</td>\n",
       "      <td>00:09</td>\n",
       "    </tr>\n",
       "    <tr>\n",
       "      <td>6</td>\n",
       "      <td>0.381649</td>\n",
       "      <td>0.479633</td>\n",
       "      <td>0.856574</td>\n",
       "      <td>0.645075</td>\n",
       "      <td>0.787521</td>\n",
       "      <td>0.785345</td>\n",
       "      <td>0.788038</td>\n",
       "      <td>0.776202</td>\n",
       "      <td>00:09</td>\n",
       "    </tr>\n",
       "    <tr>\n",
       "      <td>7</td>\n",
       "      <td>0.341853</td>\n",
       "      <td>0.417306</td>\n",
       "      <td>0.880919</td>\n",
       "      <td>0.591725</td>\n",
       "      <td>0.766701</td>\n",
       "      <td>0.764586</td>\n",
       "      <td>0.765581</td>\n",
       "      <td>0.755650</td>\n",
       "      <td>00:09</td>\n",
       "    </tr>\n",
       "    <tr>\n",
       "      <td>8</td>\n",
       "      <td>0.312772</td>\n",
       "      <td>0.360539</td>\n",
       "      <td>0.867187</td>\n",
       "      <td>0.696637</td>\n",
       "      <td>0.818538</td>\n",
       "      <td>0.816299</td>\n",
       "      <td>0.816617</td>\n",
       "      <td>0.806779</td>\n",
       "      <td>00:09</td>\n",
       "    </tr>\n",
       "    <tr>\n",
       "      <td>9</td>\n",
       "      <td>0.286820</td>\n",
       "      <td>0.397920</td>\n",
       "      <td>0.894427</td>\n",
       "      <td>0.578972</td>\n",
       "      <td>0.765781</td>\n",
       "      <td>0.763691</td>\n",
       "      <td>0.764284</td>\n",
       "      <td>0.754782</td>\n",
       "      <td>00:09</td>\n",
       "    </tr>\n",
       "    <tr>\n",
       "      <td>10</td>\n",
       "      <td>0.265468</td>\n",
       "      <td>0.347003</td>\n",
       "      <td>0.866743</td>\n",
       "      <td>0.707465</td>\n",
       "      <td>0.825403</td>\n",
       "      <td>0.823139</td>\n",
       "      <td>0.824611</td>\n",
       "      <td>0.813534</td>\n",
       "      <td>00:09</td>\n",
       "    </tr>\n",
       "    <tr>\n",
       "      <td>11</td>\n",
       "      <td>0.249261</td>\n",
       "      <td>0.364926</td>\n",
       "      <td>0.884828</td>\n",
       "      <td>0.662422</td>\n",
       "      <td>0.807000</td>\n",
       "      <td>0.804774</td>\n",
       "      <td>0.804414</td>\n",
       "      <td>0.795378</td>\n",
       "      <td>00:10</td>\n",
       "    </tr>\n",
       "    <tr>\n",
       "      <td>12</td>\n",
       "      <td>0.236744</td>\n",
       "      <td>0.351213</td>\n",
       "      <td>0.866478</td>\n",
       "      <td>0.713370</td>\n",
       "      <td>0.829273</td>\n",
       "      <td>0.826989</td>\n",
       "      <td>0.829271</td>\n",
       "      <td>0.817331</td>\n",
       "      <td>00:09</td>\n",
       "    </tr>\n",
       "    <tr>\n",
       "      <td>13</td>\n",
       "      <td>0.230547</td>\n",
       "      <td>0.342003</td>\n",
       "      <td>0.879918</td>\n",
       "      <td>0.680584</td>\n",
       "      <td>0.813715</td>\n",
       "      <td>0.811484</td>\n",
       "      <td>0.809622</td>\n",
       "      <td>0.802016</td>\n",
       "      <td>00:09</td>\n",
       "    </tr>\n",
       "    <tr>\n",
       "      <td>14</td>\n",
       "      <td>0.225487</td>\n",
       "      <td>0.384117</td>\n",
       "      <td>0.887859</td>\n",
       "      <td>0.628823</td>\n",
       "      <td>0.789356</td>\n",
       "      <td>0.787189</td>\n",
       "      <td>0.786402</td>\n",
       "      <td>0.778000</td>\n",
       "      <td>00:09</td>\n",
       "    </tr>\n",
       "    <tr>\n",
       "      <td>15</td>\n",
       "      <td>0.217879</td>\n",
       "      <td>0.428640</td>\n",
       "      <td>0.896787</td>\n",
       "      <td>0.557640</td>\n",
       "      <td>0.753218</td>\n",
       "      <td>0.751149</td>\n",
       "      <td>0.750317</td>\n",
       "      <td>0.742362</td>\n",
       "      <td>00:10</td>\n",
       "    </tr>\n",
       "    <tr>\n",
       "      <td>16</td>\n",
       "      <td>0.212071</td>\n",
       "      <td>0.388857</td>\n",
       "      <td>0.885933</td>\n",
       "      <td>0.646384</td>\n",
       "      <td>0.798495</td>\n",
       "      <td>0.796293</td>\n",
       "      <td>0.796042</td>\n",
       "      <td>0.786975</td>\n",
       "      <td>00:09</td>\n",
       "    </tr>\n",
       "  </tbody>\n",
       "</table>"
      ],
      "text/plain": [
       "<IPython.core.display.HTML object>"
      ]
     },
     "metadata": {},
     "output_type": "display_data"
    },
    {
     "data": {
      "image/png": "[encoded data removed]",
      "text/plain": [
       "<Figure size 432x288 with 1 Axes>"
      ]
     },
     "metadata": {},
     "output_type": "display_data"
    },
    {
     "name": "stdout",
     "output_type": "stream",
     "text": [
      "Better model found at epoch 0 with valid_loss value: 1.5989974737167358.\n",
      "Better model found at epoch 1 with valid_loss value: 0.9989152550697327.\n",
      "Better model found at epoch 2 with valid_loss value: 0.5804834961891174.\n",
      "Better model found at epoch 4 with valid_loss value: 0.43302202224731445.\n",
      "Better model found at epoch 5 with valid_loss value: 0.3825460970401764.\n",
      "Better model found at epoch 8 with valid_loss value: 0.360538512468338.\n",
      "Better model found at epoch 10 with valid_loss value: 0.3470025956630707.\n",
      "Better model found at epoch 13 with valid_loss value: 0.34200266003608704.\n",
      "No improvement since epoch 13: early stopping\n"
     ]
    }
   ],
   "source": [
    "fname=\"deeplab-before-unfreeze\"\n",
    "\n",
    "callbacksFitBeforeUnfreeze = [\n",
    "    ShowGraphCallback(),\n",
    "    EarlyStoppingCallback(monitor=monitor_training,comp=comp_training, patience=patience),\n",
    "    SaveModelCallback(monitor=monitor_training,comp=comp_training,every_epoch=False,fname=fname)  \n",
    "]\n",
    "learn.fit_one_cycle(20, slice(1e-4,1e-3),cbs=callbacksFitBeforeUnfreeze)"
   ]
  },
  {
   "cell_type": "code",
   "execution_count": 51,
   "metadata": {},
   "outputs": [
    {
     "data": {
      "text/html": [
       "<table border=\"1\" class=\"dataframe\">\n",
       "  <thead>\n",
       "    <tr style=\"text-align: left;\">\n",
       "      <th>epoch</th>\n",
       "      <th>train_loss</th>\n",
       "      <th>valid_loss</th>\n",
       "      <th>background</th>\n",
       "      <th>leaves</th>\n",
       "      <th>pole</th>\n",
       "      <th>grape</th>\n",
       "      <th>wood</th>\n",
       "      <th>msa</th>\n",
       "      <th>time</th>\n",
       "    </tr>\n",
       "  </thead>\n",
       "  <tbody>\n",
       "    <tr>\n",
       "      <td>0</td>\n",
       "      <td>0.203110</td>\n",
       "      <td>0.307800</td>\n",
       "      <td>0.775545</td>\n",
       "      <td>0.814418</td>\n",
       "      <td>0.846107</td>\n",
       "      <td>0.843786</td>\n",
       "      <td>0.849790</td>\n",
       "      <td>0.833926</td>\n",
       "      <td>00:09</td>\n",
       "    </tr>\n",
       "    <tr>\n",
       "      <td>1</td>\n",
       "      <td>0.203946</td>\n",
       "      <td>0.312800</td>\n",
       "      <td>0.782874</td>\n",
       "      <td>0.808163</td>\n",
       "      <td>0.846179</td>\n",
       "      <td>0.843859</td>\n",
       "      <td>0.849864</td>\n",
       "      <td>0.833999</td>\n",
       "      <td>00:09</td>\n",
       "    </tr>\n",
       "    <tr>\n",
       "      <td>2</td>\n",
       "      <td>0.193969</td>\n",
       "      <td>0.321267</td>\n",
       "      <td>0.789311</td>\n",
       "      <td>0.800480</td>\n",
       "      <td>0.845005</td>\n",
       "      <td>0.842689</td>\n",
       "      <td>0.848686</td>\n",
       "      <td>0.832844</td>\n",
       "      <td>00:09</td>\n",
       "    </tr>\n",
       "    <tr>\n",
       "      <td>3</td>\n",
       "      <td>0.190219</td>\n",
       "      <td>0.313263</td>\n",
       "      <td>0.780621</td>\n",
       "      <td>0.809314</td>\n",
       "      <td>0.845727</td>\n",
       "      <td>0.843408</td>\n",
       "      <td>0.849410</td>\n",
       "      <td>0.833553</td>\n",
       "      <td>00:09</td>\n",
       "    </tr>\n",
       "  </tbody>\n",
       "</table>"
      ],
      "text/plain": [
       "<IPython.core.display.HTML object>"
      ]
     },
     "metadata": {},
     "output_type": "display_data"
    },
    {
     "data": {
      "image/png": "[encoded data removed]",
      "text/plain": [
       "<Figure size 432x288 with 1 Axes>"
      ]
     },
     "metadata": {},
     "output_type": "display_data"
    },
    {
     "name": "stdout",
     "output_type": "stream",
     "text": [
      "Better model found at epoch 0 with valid_loss value: 0.3077999949455261.\n",
      "No improvement since epoch 0: early stopping\n"
     ]
    }
   ],
   "source": [
    "learn.load(\"deeplab-before-unfreeze\")\n",
    "learn.unfreeze()\n",
    "\n",
    "fname=\"deeplab-after-unfreeze\"\n",
    "\n",
    "\n",
    "callbacksFitAfterUnfreeze = [\n",
    "    ShowGraphCallback(),\n",
    "    EarlyStoppingCallback(monitor=monitor_training,comp=comp_training, patience=patience),\n",
    "    SaveModelCallback(monitor=monitor_training,comp=comp_training,every_epoch=False,fname=fname)  \n",
    "]\n",
    "learn.fit_one_cycle(20, slice(1e-7,1e-7),cbs=callbacksFitAfterUnfreeze)"
   ]
  },
  {
   "cell_type": "markdown",
   "metadata": {},
   "source": [
    "# FocalLoss"
   ]
  },
  {
   "cell_type": "code",
   "execution_count": 49,
   "metadata": {},
   "outputs": [],
   "source": [
    "learn = get_segmentation_learner(dls=dls, number_classes=5, segmentation_type=\"Semantic Segmentation\",\n",
    "                                 architecture_name=\"deeplabv3+\", backbone_name=\"resnet50\",\n",
    "                                 metrics=[background,leaves,pole,grape,wood,msa],wd=1e-2,\n",
    "                                 pretrained=True,normalize=True).to_fp16()"
   ]
  },
  {
   "cell_type": "code",
   "execution_count": 50,
   "metadata": {},
   "outputs": [],
   "source": [
    "def dice_loss(input, target):\n",
    "    input = torch.sigmoid(input)\n",
    "    smooth = 1.0\n",
    "\n",
    "    iflat = input.view(-1)\n",
    "    tflat = target.view(-1)\n",
    "    intersection = (iflat * tflat).sum()\n",
    "    \n",
    "    return ((2.0 * intersection + smooth) / (iflat.sum() + tflat.sum() + smooth))\n",
    "\n",
    "class FocalLoss(nn.Module):\n",
    "    def __init__(self, gamma):\n",
    "        super().__init__()\n",
    "        self.gamma = gamma\n",
    "        \n",
    "    def forward(self, input, target):\n",
    "        if not (target.size() == input.size()):\n",
    "            raise ValueError(\"Target size ({}) must be the same as input size ({})\"\n",
    "                             .format(target.size(), input.size()))\n",
    "\n",
    "        max_val = (-input).clamp(min=0)\n",
    "        loss = input - input * target + max_val + \\\n",
    "            ((-max_val).exp() + (-input - max_val).exp()).log()\n",
    "\n",
    "        invprobs = F.logsigmoid(-input * (target * 2.0 - 1.0))\n",
    "        loss = (invprobs * self.gamma).exp() * loss\n",
    "        \n",
    "        return loss.mean()\n",
    "    \n",
    "\n",
    "\n",
    "class MixedLoss(nn.Module):\n",
    "    def __init__(self, alpha, gamma):\n",
    "        super().__init__()\n",
    "        self.alpha = alpha\n",
    "        self.focal = FocalLoss(gamma)\n",
    "        \n",
    "    def forward(self, input, target):\n",
    "        loss = self.alpha*self.focal(input, target) - torch.log(dice_loss(input, target))\n",
    "        return loss.mean()"
   ]
  },
  {
   "cell_type": "code",
   "execution_count": 51,
   "metadata": {},
   "outputs": [],
   "source": [
    "dls.loss_func = MixedLoss(10.0, 2.0)"
   ]
  },
  {
   "cell_type": "code",
   "execution_count": 53,
   "metadata": {},
   "outputs": [
    {
     "data": {
      "text/html": [
       "<table border=\"1\" class=\"dataframe\">\n",
       "  <thead>\n",
       "    <tr style=\"text-align: left;\">\n",
       "      <th>epoch</th>\n",
       "      <th>train_loss</th>\n",
       "      <th>valid_loss</th>\n",
       "      <th>background</th>\n",
       "      <th>leaves</th>\n",
       "      <th>pole</th>\n",
       "      <th>grape</th>\n",
       "      <th>wood</th>\n",
       "      <th>msa</th>\n",
       "      <th>time</th>\n",
       "    </tr>\n",
       "  </thead>\n",
       "  <tbody>\n",
       "    <tr>\n",
       "      <td>0</td>\n",
       "      <td>1.625084</td>\n",
       "      <td>1.592198</td>\n",
       "      <td>0.029510</td>\n",
       "      <td>0.030637</td>\n",
       "      <td>0.002473</td>\n",
       "      <td>0.017130</td>\n",
       "      <td>0.017245</td>\n",
       "      <td>0.016916</td>\n",
       "      <td>00:10</td>\n",
       "    </tr>\n",
       "    <tr>\n",
       "      <td>1</td>\n",
       "      <td>1.562742</td>\n",
       "      <td>1.534721</td>\n",
       "      <td>0.383242</td>\n",
       "      <td>0.126404</td>\n",
       "      <td>0.238114</td>\n",
       "      <td>0.248942</td>\n",
       "      <td>0.250739</td>\n",
       "      <td>0.246051</td>\n",
       "      <td>00:09</td>\n",
       "    </tr>\n",
       "    <tr>\n",
       "      <td>2</td>\n",
       "      <td>1.429224</td>\n",
       "      <td>1.282923</td>\n",
       "      <td>0.819672</td>\n",
       "      <td>0.366123</td>\n",
       "      <td>0.608262</td>\n",
       "      <td>0.609574</td>\n",
       "      <td>0.613873</td>\n",
       "      <td>0.602675</td>\n",
       "      <td>00:10</td>\n",
       "    </tr>\n",
       "    <tr>\n",
       "      <td>3</td>\n",
       "      <td>1.241926</td>\n",
       "      <td>1.086458</td>\n",
       "      <td>0.821752</td>\n",
       "      <td>0.555813</td>\n",
       "      <td>0.723534</td>\n",
       "      <td>0.722236</td>\n",
       "      <td>0.727470</td>\n",
       "      <td>0.713964</td>\n",
       "      <td>00:10</td>\n",
       "    </tr>\n",
       "    <tr>\n",
       "      <td>4</td>\n",
       "      <td>1.049012</td>\n",
       "      <td>0.853031</td>\n",
       "      <td>0.828564</td>\n",
       "      <td>0.630758</td>\n",
       "      <td>0.769051</td>\n",
       "      <td>0.766975</td>\n",
       "      <td>0.772501</td>\n",
       "      <td>0.758118</td>\n",
       "      <td>00:10</td>\n",
       "    </tr>\n",
       "    <tr>\n",
       "      <td>5</td>\n",
       "      <td>0.891954</td>\n",
       "      <td>0.689344</td>\n",
       "      <td>0.814673</td>\n",
       "      <td>0.727048</td>\n",
       "      <td>0.813808</td>\n",
       "      <td>0.808843</td>\n",
       "      <td>0.817527</td>\n",
       "      <td>0.802287</td>\n",
       "      <td>00:09</td>\n",
       "    </tr>\n",
       "    <tr>\n",
       "      <td>6</td>\n",
       "      <td>0.770906</td>\n",
       "      <td>0.725511</td>\n",
       "      <td>0.868079</td>\n",
       "      <td>0.654616</td>\n",
       "      <td>0.793593</td>\n",
       "      <td>0.785679</td>\n",
       "      <td>0.796437</td>\n",
       "      <td>0.782656</td>\n",
       "      <td>00:10</td>\n",
       "    </tr>\n",
       "    <tr>\n",
       "      <td>7</td>\n",
       "      <td>0.682122</td>\n",
       "      <td>0.603665</td>\n",
       "      <td>0.833646</td>\n",
       "      <td>0.738792</td>\n",
       "      <td>0.825382</td>\n",
       "      <td>0.819399</td>\n",
       "      <td>0.828699</td>\n",
       "      <td>0.814250</td>\n",
       "      <td>00:10</td>\n",
       "    </tr>\n",
       "    <tr>\n",
       "      <td>8</td>\n",
       "      <td>0.602766</td>\n",
       "      <td>0.597630</td>\n",
       "      <td>0.867064</td>\n",
       "      <td>0.692615</td>\n",
       "      <td>0.812550</td>\n",
       "      <td>0.805356</td>\n",
       "      <td>0.814965</td>\n",
       "      <td>0.801704</td>\n",
       "      <td>00:09</td>\n",
       "    </tr>\n",
       "    <tr>\n",
       "      <td>9</td>\n",
       "      <td>0.540600</td>\n",
       "      <td>0.678375</td>\n",
       "      <td>0.892870</td>\n",
       "      <td>0.609288</td>\n",
       "      <td>0.776927</td>\n",
       "      <td>0.769945</td>\n",
       "      <td>0.778652</td>\n",
       "      <td>0.766796</td>\n",
       "      <td>00:10</td>\n",
       "    </tr>\n",
       "    <tr>\n",
       "      <td>10</td>\n",
       "      <td>0.491611</td>\n",
       "      <td>0.570695</td>\n",
       "      <td>0.866892</td>\n",
       "      <td>0.698190</td>\n",
       "      <td>0.814993</td>\n",
       "      <td>0.808584</td>\n",
       "      <td>0.817270</td>\n",
       "      <td>0.804406</td>\n",
       "      <td>00:09</td>\n",
       "    </tr>\n",
       "    <tr>\n",
       "      <td>11</td>\n",
       "      <td>0.452982</td>\n",
       "      <td>0.590729</td>\n",
       "      <td>0.879516</td>\n",
       "      <td>0.653107</td>\n",
       "      <td>0.794209</td>\n",
       "      <td>0.787977</td>\n",
       "      <td>0.796147</td>\n",
       "      <td>0.784252</td>\n",
       "      <td>00:10</td>\n",
       "    </tr>\n",
       "    <tr>\n",
       "      <td>12</td>\n",
       "      <td>0.425922</td>\n",
       "      <td>0.552060</td>\n",
       "      <td>0.874173</td>\n",
       "      <td>0.698376</td>\n",
       "      <td>0.815556</td>\n",
       "      <td>0.809120</td>\n",
       "      <td>0.818225</td>\n",
       "      <td>0.805896</td>\n",
       "      <td>00:09</td>\n",
       "    </tr>\n",
       "    <tr>\n",
       "      <td>13</td>\n",
       "      <td>0.398272</td>\n",
       "      <td>0.542580</td>\n",
       "      <td>0.870992</td>\n",
       "      <td>0.699161</td>\n",
       "      <td>0.811833</td>\n",
       "      <td>0.805905</td>\n",
       "      <td>0.815701</td>\n",
       "      <td>0.803348</td>\n",
       "      <td>00:10</td>\n",
       "    </tr>\n",
       "    <tr>\n",
       "      <td>14</td>\n",
       "      <td>0.380487</td>\n",
       "      <td>0.521409</td>\n",
       "      <td>0.868231</td>\n",
       "      <td>0.718277</td>\n",
       "      <td>0.822574</td>\n",
       "      <td>0.815784</td>\n",
       "      <td>0.826140</td>\n",
       "      <td>0.813313</td>\n",
       "      <td>00:10</td>\n",
       "    </tr>\n",
       "    <tr>\n",
       "      <td>15</td>\n",
       "      <td>0.363234</td>\n",
       "      <td>0.567050</td>\n",
       "      <td>0.881600</td>\n",
       "      <td>0.669682</td>\n",
       "      <td>0.801150</td>\n",
       "      <td>0.794443</td>\n",
       "      <td>0.803996</td>\n",
       "      <td>0.792134</td>\n",
       "      <td>00:10</td>\n",
       "    </tr>\n",
       "    <tr>\n",
       "      <td>16</td>\n",
       "      <td>0.351425</td>\n",
       "      <td>0.534303</td>\n",
       "      <td>0.877711</td>\n",
       "      <td>0.702575</td>\n",
       "      <td>0.817917</td>\n",
       "      <td>0.810981</td>\n",
       "      <td>0.820661</td>\n",
       "      <td>0.808548</td>\n",
       "      <td>00:10</td>\n",
       "    </tr>\n",
       "    <tr>\n",
       "      <td>17</td>\n",
       "      <td>0.339480</td>\n",
       "      <td>0.535396</td>\n",
       "      <td>0.879020</td>\n",
       "      <td>0.699959</td>\n",
       "      <td>0.815933</td>\n",
       "      <td>0.809203</td>\n",
       "      <td>0.818763</td>\n",
       "      <td>0.806972</td>\n",
       "      <td>00:09</td>\n",
       "    </tr>\n",
       "  </tbody>\n",
       "</table>"
      ],
      "text/plain": [
       "<IPython.core.display.HTML object>"
      ]
     },
     "metadata": {},
     "output_type": "display_data"
    },
    {
     "data": {
      "image/png": "[encoded data removed]",
      "text/plain": [
       "<Figure size 432x288 with 1 Axes>"
      ]
     },
     "metadata": {},
     "output_type": "display_data"
    },
    {
     "name": "stdout",
     "output_type": "stream",
     "text": [
      "Better model found at epoch 0 with valid_loss value: 1.5921976566314697.\n",
      "Better model found at epoch 1 with valid_loss value: 1.5347212553024292.\n",
      "Better model found at epoch 2 with valid_loss value: 1.2829225063323975.\n",
      "Better model found at epoch 3 with valid_loss value: 1.0864579677581787.\n",
      "Better model found at epoch 4 with valid_loss value: 0.8530312776565552.\n",
      "Better model found at epoch 5 with valid_loss value: 0.6893443465232849.\n",
      "Better model found at epoch 7 with valid_loss value: 0.6036649346351624.\n",
      "Better model found at epoch 8 with valid_loss value: 0.5976296663284302.\n",
      "Better model found at epoch 10 with valid_loss value: 0.5706948041915894.\n",
      "Better model found at epoch 12 with valid_loss value: 0.552060067653656.\n",
      "Better model found at epoch 13 with valid_loss value: 0.5425795912742615.\n",
      "Better model found at epoch 14 with valid_loss value: 0.5214090347290039.\n",
      "No improvement since epoch 14: early stopping\n"
     ]
    }
   ],
   "source": [
    "fname=\"deeplab-before-unfreeze\"\n",
    "\n",
    "callbacksFitBeforeUnfreeze = [\n",
    "    ShowGraphCallback(),\n",
    "    EarlyStoppingCallback(monitor=monitor_training,comp=comp_training, patience=patience),\n",
    "    SaveModelCallback(monitor=monitor_training,comp=comp_training,every_epoch=False,fname=fname)  \n",
    "]\n",
    "learn.fit_one_cycle(20, slice(1e-4,1e-3),cbs=callbacksFitBeforeUnfreeze)"
   ]
  },
  {
   "cell_type": "code",
   "execution_count": 54,
   "metadata": {},
   "outputs": [],
   "source": [
    "learn.load(\"deeplab-before-unfreeze\")\n",
    "learn.unfreeze()\n",
    "#learn.lr_find() # find learning rate\n",
    "#learn.recorder # plot learning rate graph"
   ]
  },
  {
   "cell_type": "code",
   "execution_count": 55,
   "metadata": {},
   "outputs": [
    {
     "data": {
      "text/html": [
       "<table border=\"1\" class=\"dataframe\">\n",
       "  <thead>\n",
       "    <tr style=\"text-align: left;\">\n",
       "      <th>epoch</th>\n",
       "      <th>train_loss</th>\n",
       "      <th>valid_loss</th>\n",
       "      <th>background</th>\n",
       "      <th>leaves</th>\n",
       "      <th>pole</th>\n",
       "      <th>grape</th>\n",
       "      <th>wood</th>\n",
       "      <th>msa</th>\n",
       "      <th>time</th>\n",
       "    </tr>\n",
       "  </thead>\n",
       "  <tbody>\n",
       "    <tr>\n",
       "      <td>0</td>\n",
       "      <td>0.318088</td>\n",
       "      <td>0.534524</td>\n",
       "      <td>0.870807</td>\n",
       "      <td>0.707954</td>\n",
       "      <td>0.819055</td>\n",
       "      <td>0.812066</td>\n",
       "      <td>0.822191</td>\n",
       "      <td>0.809407</td>\n",
       "      <td>00:10</td>\n",
       "    </tr>\n",
       "    <tr>\n",
       "      <td>1</td>\n",
       "      <td>0.313709</td>\n",
       "      <td>0.523514</td>\n",
       "      <td>0.867488</td>\n",
       "      <td>0.716040</td>\n",
       "      <td>0.821811</td>\n",
       "      <td>0.815060</td>\n",
       "      <td>0.824914</td>\n",
       "      <td>0.812225</td>\n",
       "      <td>00:09</td>\n",
       "    </tr>\n",
       "    <tr>\n",
       "      <td>2</td>\n",
       "      <td>0.319544</td>\n",
       "      <td>0.553588</td>\n",
       "      <td>0.877250</td>\n",
       "      <td>0.691678</td>\n",
       "      <td>0.812454</td>\n",
       "      <td>0.805452</td>\n",
       "      <td>0.815451</td>\n",
       "      <td>0.802981</td>\n",
       "      <td>00:10</td>\n",
       "    </tr>\n",
       "    <tr>\n",
       "      <td>3</td>\n",
       "      <td>0.325529</td>\n",
       "      <td>0.569212</td>\n",
       "      <td>0.882530</td>\n",
       "      <td>0.674573</td>\n",
       "      <td>0.805513</td>\n",
       "      <td>0.798511</td>\n",
       "      <td>0.808119</td>\n",
       "      <td>0.795998</td>\n",
       "      <td>00:10</td>\n",
       "    </tr>\n",
       "    <tr>\n",
       "      <td>4</td>\n",
       "      <td>0.323668</td>\n",
       "      <td>0.564572</td>\n",
       "      <td>0.880816</td>\n",
       "      <td>0.676101</td>\n",
       "      <td>0.806055</td>\n",
       "      <td>0.798897</td>\n",
       "      <td>0.808528</td>\n",
       "      <td>0.796328</td>\n",
       "      <td>00:09</td>\n",
       "    </tr>\n",
       "  </tbody>\n",
       "</table>"
      ],
      "text/plain": [
       "<IPython.core.display.HTML object>"
      ]
     },
     "metadata": {},
     "output_type": "display_data"
    },
    {
     "data": {
      "image/png": "[encoded data removed]",
      "text/plain": [
       "<Figure size 432x288 with 1 Axes>"
      ]
     },
     "metadata": {},
     "output_type": "display_data"
    },
    {
     "name": "stdout",
     "output_type": "stream",
     "text": [
      "Better model found at epoch 0 with valid_loss value: 0.534524142742157.\n",
      "Better model found at epoch 1 with valid_loss value: 0.5235136151313782.\n",
      "No improvement since epoch 1: early stopping\n"
     ]
    }
   ],
   "source": [
    "fname=\"deeplab-after-unfreeze\"\n",
    "\n",
    "\n",
    "callbacksFitAfterUnfreeze = [\n",
    "    ShowGraphCallback(),\n",
    "    EarlyStoppingCallback(monitor=monitor_training,comp=comp_training, patience=patience),\n",
    "    SaveModelCallback(monitor=monitor_training,comp=comp_training,every_epoch=False,fname=fname)  \n",
    "]\n",
    "learn.fit_one_cycle(20, slice(1e-7,1e-7),cbs=callbacksFitAfterUnfreeze)"
   ]
  },
  {
   "cell_type": "code",
   "execution_count": 29,
   "metadata": {},
   "outputs": [
    {
     "data": {
      "text/html": [],
      "text/plain": [
       "<IPython.core.display.HTML object>"
      ]
     },
     "metadata": {},
     "output_type": "display_data"
    },
    {
     "data": {
      "text/plain": [
       "(#7) [0.3805834949016571,0.8687860369682312,0.7991335988044739,0.8530165553092957,0.8525248169898987,0.857071578502655,0.8488269448280334]"
      ]
     },
     "execution_count": 29,
     "metadata": {},
     "output_type": "execute_result"
    }
   ],
   "source": [
    "learn.validate()"
   ]
  },
  {
   "cell_type": "code",
   "execution_count": 52,
   "metadata": {},
   "outputs": [],
   "source": [
    "aux=learn.model\n",
    "aux=aux.cpu()\n",
    "\n",
    "traced_cell=torch.jit.script(aux)\n",
    "traced_cell.save(\"deeplab-weights.pth\")"
   ]
  },
  {
   "cell_type": "code",
   "execution_count": 53,
   "metadata": {},
   "outputs": [
    {
     "data": {
      "text/plain": [
       "RecursiveScriptModule(\n",
       "  original_name=DeepLabV3Plus\n",
       "  (backbone): RecursiveScriptModule(\n",
       "    original_name=ResNetV1\n",
       "    (conv1): RecursiveScriptModule(original_name=Conv2d)\n",
       "    (bn1): RecursiveScriptModule(original_name=BatchNorm2d)\n",
       "    (relu): RecursiveScriptModule(original_name=ReLU)\n",
       "    (maxpool): RecursiveScriptModule(original_name=MaxPool2d)\n",
       "    (layer1): RecursiveScriptModule(\n",
       "      original_name=Sequential\n",
       "      (0): RecursiveScriptModule(\n",
       "        original_name=BottleneckV1b\n",
       "        (conv1): RecursiveScriptModule(original_name=Conv2d)\n",
       "        (bn1): RecursiveScriptModule(original_name=BatchNorm2d)\n",
       "        (conv2): RecursiveScriptModule(original_name=Conv2d)\n",
       "        (bn2): RecursiveScriptModule(original_name=BatchNorm2d)\n",
       "        (conv3): RecursiveScriptModule(original_name=Conv2d)\n",
       "        (bn3): RecursiveScriptModule(original_name=BatchNorm2d)\n",
       "        (relu): RecursiveScriptModule(original_name=ReLU)\n",
       "        (downsample): RecursiveScriptModule(\n",
       "          original_name=Sequential\n",
       "          (0): RecursiveScriptModule(original_name=Conv2d)\n",
       "          (1): RecursiveScriptModule(original_name=BatchNorm2d)\n",
       "        )\n",
       "      )\n",
       "      (1): RecursiveScriptModule(\n",
       "        original_name=BottleneckV1b\n",
       "        (conv1): RecursiveScriptModule(original_name=Conv2d)\n",
       "        (bn1): RecursiveScriptModule(original_name=BatchNorm2d)\n",
       "        (conv2): RecursiveScriptModule(original_name=Conv2d)\n",
       "        (bn2): RecursiveScriptModule(original_name=BatchNorm2d)\n",
       "        (conv3): RecursiveScriptModule(original_name=Conv2d)\n",
       "        (bn3): RecursiveScriptModule(original_name=BatchNorm2d)\n",
       "        (relu): RecursiveScriptModule(original_name=ReLU)\n",
       "      )\n",
       "      (2): RecursiveScriptModule(\n",
       "        original_name=BottleneckV1b\n",
       "        (conv1): RecursiveScriptModule(original_name=Conv2d)\n",
       "        (bn1): RecursiveScriptModule(original_name=BatchNorm2d)\n",
       "        (conv2): RecursiveScriptModule(original_name=Conv2d)\n",
       "        (bn2): RecursiveScriptModule(original_name=BatchNorm2d)\n",
       "        (conv3): RecursiveScriptModule(original_name=Conv2d)\n",
       "        (bn3): RecursiveScriptModule(original_name=BatchNorm2d)\n",
       "        (relu): RecursiveScriptModule(original_name=ReLU)\n",
       "      )\n",
       "    )\n",
       "    (layer2): RecursiveScriptModule(\n",
       "      original_name=Sequential\n",
       "      (0): RecursiveScriptModule(\n",
       "        original_name=BottleneckV1b\n",
       "        (conv1): RecursiveScriptModule(original_name=Conv2d)\n",
       "        (bn1): RecursiveScriptModule(original_name=BatchNorm2d)\n",
       "        (conv2): RecursiveScriptModule(original_name=Conv2d)\n",
       "        (bn2): RecursiveScriptModule(original_name=BatchNorm2d)\n",
       "        (conv3): RecursiveScriptModule(original_name=Conv2d)\n",
       "        (bn3): RecursiveScriptModule(original_name=BatchNorm2d)\n",
       "        (relu): RecursiveScriptModule(original_name=ReLU)\n",
       "        (downsample): RecursiveScriptModule(\n",
       "          original_name=Sequential\n",
       "          (0): RecursiveScriptModule(original_name=Conv2d)\n",
       "          (1): RecursiveScriptModule(original_name=BatchNorm2d)\n",
       "        )\n",
       "      )\n",
       "      (1): RecursiveScriptModule(\n",
       "        original_name=BottleneckV1b\n",
       "        (conv1): RecursiveScriptModule(original_name=Conv2d)\n",
       "        (bn1): RecursiveScriptModule(original_name=BatchNorm2d)\n",
       "        (conv2): RecursiveScriptModule(original_name=Conv2d)\n",
       "        (bn2): RecursiveScriptModule(original_name=BatchNorm2d)\n",
       "        (conv3): RecursiveScriptModule(original_name=Conv2d)\n",
       "        (bn3): RecursiveScriptModule(original_name=BatchNorm2d)\n",
       "        (relu): RecursiveScriptModule(original_name=ReLU)\n",
       "      )\n",
       "      (2): RecursiveScriptModule(\n",
       "        original_name=BottleneckV1b\n",
       "        (conv1): RecursiveScriptModule(original_name=Conv2d)\n",
       "        (bn1): RecursiveScriptModule(original_name=BatchNorm2d)\n",
       "        (conv2): RecursiveScriptModule(original_name=Conv2d)\n",
       "        (bn2): RecursiveScriptModule(original_name=BatchNorm2d)\n",
       "        (conv3): RecursiveScriptModule(original_name=Conv2d)\n",
       "        (bn3): RecursiveScriptModule(original_name=BatchNorm2d)\n",
       "        (relu): RecursiveScriptModule(original_name=ReLU)\n",
       "      )\n",
       "      (3): RecursiveScriptModule(\n",
       "        original_name=BottleneckV1b\n",
       "        (conv1): RecursiveScriptModule(original_name=Conv2d)\n",
       "        (bn1): RecursiveScriptModule(original_name=BatchNorm2d)\n",
       "        (conv2): RecursiveScriptModule(original_name=Conv2d)\n",
       "        (bn2): RecursiveScriptModule(original_name=BatchNorm2d)\n",
       "        (conv3): RecursiveScriptModule(original_name=Conv2d)\n",
       "        (bn3): RecursiveScriptModule(original_name=BatchNorm2d)\n",
       "        (relu): RecursiveScriptModule(original_name=ReLU)\n",
       "      )\n",
       "    )\n",
       "    (layer3): RecursiveScriptModule(\n",
       "      original_name=Sequential\n",
       "      (0): RecursiveScriptModule(\n",
       "        original_name=BottleneckV1b\n",
       "        (conv1): RecursiveScriptModule(original_name=Conv2d)\n",
       "        (bn1): RecursiveScriptModule(original_name=BatchNorm2d)\n",
       "        (conv2): RecursiveScriptModule(original_name=Conv2d)\n",
       "        (bn2): RecursiveScriptModule(original_name=BatchNorm2d)\n",
       "        (conv3): RecursiveScriptModule(original_name=Conv2d)\n",
       "        (bn3): RecursiveScriptModule(original_name=BatchNorm2d)\n",
       "        (relu): RecursiveScriptModule(original_name=ReLU)\n",
       "        (downsample): RecursiveScriptModule(\n",
       "          original_name=Sequential\n",
       "          (0): RecursiveScriptModule(original_name=Conv2d)\n",
       "          (1): RecursiveScriptModule(original_name=BatchNorm2d)\n",
       "        )\n",
       "      )\n",
       "      (1): RecursiveScriptModule(\n",
       "        original_name=BottleneckV1b\n",
       "        (conv1): RecursiveScriptModule(original_name=Conv2d)\n",
       "        (bn1): RecursiveScriptModule(original_name=BatchNorm2d)\n",
       "        (conv2): RecursiveScriptModule(original_name=Conv2d)\n",
       "        (bn2): RecursiveScriptModule(original_name=BatchNorm2d)\n",
       "        (conv3): RecursiveScriptModule(original_name=Conv2d)\n",
       "        (bn3): RecursiveScriptModule(original_name=BatchNorm2d)\n",
       "        (relu): RecursiveScriptModule(original_name=ReLU)\n",
       "      )\n",
       "      (2): RecursiveScriptModule(\n",
       "        original_name=BottleneckV1b\n",
       "        (conv1): RecursiveScriptModule(original_name=Conv2d)\n",
       "        (bn1): RecursiveScriptModule(original_name=BatchNorm2d)\n",
       "        (conv2): RecursiveScriptModule(original_name=Conv2d)\n",
       "        (bn2): RecursiveScriptModule(original_name=BatchNorm2d)\n",
       "        (conv3): RecursiveScriptModule(original_name=Conv2d)\n",
       "        (bn3): RecursiveScriptModule(original_name=BatchNorm2d)\n",
       "        (relu): RecursiveScriptModule(original_name=ReLU)\n",
       "      )\n",
       "      (3): RecursiveScriptModule(\n",
       "        original_name=BottleneckV1b\n",
       "        (conv1): RecursiveScriptModule(original_name=Conv2d)\n",
       "        (bn1): RecursiveScriptModule(original_name=BatchNorm2d)\n",
       "        (conv2): RecursiveScriptModule(original_name=Conv2d)\n",
       "        (bn2): RecursiveScriptModule(original_name=BatchNorm2d)\n",
       "        (conv3): RecursiveScriptModule(original_name=Conv2d)\n",
       "        (bn3): RecursiveScriptModule(original_name=BatchNorm2d)\n",
       "        (relu): RecursiveScriptModule(original_name=ReLU)\n",
       "      )\n",
       "      (4): RecursiveScriptModule(\n",
       "        original_name=BottleneckV1b\n",
       "        (conv1): RecursiveScriptModule(original_name=Conv2d)\n",
       "        (bn1): RecursiveScriptModule(original_name=BatchNorm2d)\n",
       "        (conv2): RecursiveScriptModule(original_name=Conv2d)\n",
       "        (bn2): RecursiveScriptModule(original_name=BatchNorm2d)\n",
       "        (conv3): RecursiveScriptModule(original_name=Conv2d)\n",
       "        (bn3): RecursiveScriptModule(original_name=BatchNorm2d)\n",
       "        (relu): RecursiveScriptModule(original_name=ReLU)\n",
       "      )\n",
       "      (5): RecursiveScriptModule(\n",
       "        original_name=BottleneckV1b\n",
       "        (conv1): RecursiveScriptModule(original_name=Conv2d)\n",
       "        (bn1): RecursiveScriptModule(original_name=BatchNorm2d)\n",
       "        (conv2): RecursiveScriptModule(original_name=Conv2d)\n",
       "        (bn2): RecursiveScriptModule(original_name=BatchNorm2d)\n",
       "        (conv3): RecursiveScriptModule(original_name=Conv2d)\n",
       "        (bn3): RecursiveScriptModule(original_name=BatchNorm2d)\n",
       "        (relu): RecursiveScriptModule(original_name=ReLU)\n",
       "      )\n",
       "    )\n",
       "    (layer4): RecursiveScriptModule(\n",
       "      original_name=Sequential\n",
       "      (0): RecursiveScriptModule(\n",
       "        original_name=BottleneckV1b\n",
       "        (conv1): RecursiveScriptModule(original_name=Conv2d)\n",
       "        (bn1): RecursiveScriptModule(original_name=BatchNorm2d)\n",
       "        (conv2): RecursiveScriptModule(original_name=Conv2d)\n",
       "        (bn2): RecursiveScriptModule(original_name=BatchNorm2d)\n",
       "        (conv3): RecursiveScriptModule(original_name=Conv2d)\n",
       "        (bn3): RecursiveScriptModule(original_name=BatchNorm2d)\n",
       "        (relu): RecursiveScriptModule(original_name=ReLU)\n",
       "        (downsample): RecursiveScriptModule(\n",
       "          original_name=Sequential\n",
       "          (0): RecursiveScriptModule(original_name=Conv2d)\n",
       "          (1): RecursiveScriptModule(original_name=BatchNorm2d)\n",
       "        )\n",
       "      )\n",
       "      (1): RecursiveScriptModule(\n",
       "        original_name=BottleneckV1b\n",
       "        (conv1): RecursiveScriptModule(original_name=Conv2d)\n",
       "        (bn1): RecursiveScriptModule(original_name=BatchNorm2d)\n",
       "        (conv2): RecursiveScriptModule(original_name=Conv2d)\n",
       "        (bn2): RecursiveScriptModule(original_name=BatchNorm2d)\n",
       "        (conv3): RecursiveScriptModule(original_name=Conv2d)\n",
       "        (bn3): RecursiveScriptModule(original_name=BatchNorm2d)\n",
       "        (relu): RecursiveScriptModule(original_name=ReLU)\n",
       "      )\n",
       "      (2): RecursiveScriptModule(\n",
       "        original_name=BottleneckV1b\n",
       "        (conv1): RecursiveScriptModule(original_name=Conv2d)\n",
       "        (bn1): RecursiveScriptModule(original_name=BatchNorm2d)\n",
       "        (conv2): RecursiveScriptModule(original_name=Conv2d)\n",
       "        (bn2): RecursiveScriptModule(original_name=BatchNorm2d)\n",
       "        (conv3): RecursiveScriptModule(original_name=Conv2d)\n",
       "        (bn3): RecursiveScriptModule(original_name=BatchNorm2d)\n",
       "        (relu): RecursiveScriptModule(original_name=ReLU)\n",
       "      )\n",
       "    )\n",
       "    (avgpool): RecursiveScriptModule(original_name=AdaptiveAvgPool2d)\n",
       "    (fc): RecursiveScriptModule(original_name=Linear)\n",
       "  )\n",
       "  (head): RecursiveScriptModule(\n",
       "    original_name=_DeepLabHead\n",
       "    (aspp): RecursiveScriptModule(\n",
       "      original_name=_ASPP\n",
       "      (aspp0): RecursiveScriptModule(\n",
       "        original_name=Sequential\n",
       "        (conv): RecursiveScriptModule(original_name=Conv2d)\n",
       "        (bn): RecursiveScriptModule(original_name=BatchNorm2d)\n",
       "        (relu): RecursiveScriptModule(original_name=ReLU)\n",
       "      )\n",
       "      (aspp1): RecursiveScriptModule(\n",
       "        original_name=SeparableConv2d\n",
       "        (block): RecursiveScriptModule(\n",
       "          original_name=Sequential\n",
       "          (depthwise): RecursiveScriptModule(original_name=Conv2d)\n",
       "          (bn_depth): RecursiveScriptModule(original_name=BatchNorm2d)\n",
       "          (relu1): RecursiveScriptModule(original_name=ReLU)\n",
       "          (pointwise): RecursiveScriptModule(original_name=Conv2d)\n",
       "          (bn_point): RecursiveScriptModule(original_name=BatchNorm2d)\n",
       "          (relu2): RecursiveScriptModule(original_name=ReLU)\n",
       "        )\n",
       "      )\n",
       "      (aspp2): RecursiveScriptModule(\n",
       "        original_name=SeparableConv2d\n",
       "        (block): RecursiveScriptModule(\n",
       "          original_name=Sequential\n",
       "          (depthwise): RecursiveScriptModule(original_name=Conv2d)\n",
       "          (bn_depth): RecursiveScriptModule(original_name=BatchNorm2d)\n",
       "          (relu1): RecursiveScriptModule(original_name=ReLU)\n",
       "          (pointwise): RecursiveScriptModule(original_name=Conv2d)\n",
       "          (bn_point): RecursiveScriptModule(original_name=BatchNorm2d)\n",
       "          (relu2): RecursiveScriptModule(original_name=ReLU)\n",
       "        )\n",
       "      )\n",
       "      (aspp3): RecursiveScriptModule(\n",
       "        original_name=SeparableConv2d\n",
       "        (block): RecursiveScriptModule(\n",
       "          original_name=Sequential\n",
       "          (depthwise): RecursiveScriptModule(original_name=Conv2d)\n",
       "          (bn_depth): RecursiveScriptModule(original_name=BatchNorm2d)\n",
       "          (relu1): RecursiveScriptModule(original_name=ReLU)\n",
       "          (pointwise): RecursiveScriptModule(original_name=Conv2d)\n",
       "          (bn_point): RecursiveScriptModule(original_name=BatchNorm2d)\n",
       "          (relu2): RecursiveScriptModule(original_name=ReLU)\n",
       "        )\n",
       "      )\n",
       "      (image_pooling): RecursiveScriptModule(\n",
       "        original_name=Sequential\n",
       "        (gap): RecursiveScriptModule(original_name=AdaptiveAvgPool2d)\n",
       "        (conv): RecursiveScriptModule(original_name=Conv2d)\n",
       "        (bn): RecursiveScriptModule(original_name=BatchNorm2d)\n",
       "        (relu): RecursiveScriptModule(original_name=ReLU)\n",
       "      )\n",
       "      (conv): RecursiveScriptModule(original_name=Conv2d)\n",
       "      (bn): RecursiveScriptModule(original_name=BatchNorm2d)\n",
       "      (relu): RecursiveScriptModule(original_name=ReLU)\n",
       "      (dropout): RecursiveScriptModule(original_name=Dropout2d)\n",
       "    )\n",
       "    (c1_block): RecursiveScriptModule(\n",
       "      original_name=_ConvBNReLU\n",
       "      (conv): RecursiveScriptModule(original_name=Conv2d)\n",
       "      (bn): RecursiveScriptModule(original_name=BatchNorm2d)\n",
       "      (relu): RecursiveScriptModule(original_name=ReLU)\n",
       "    )\n",
       "    (block): RecursiveScriptModule(\n",
       "      original_name=Sequential\n",
       "      (0): RecursiveScriptModule(\n",
       "        original_name=SeparableConv2d\n",
       "        (block): RecursiveScriptModule(\n",
       "          original_name=Sequential\n",
       "          (depthwise): RecursiveScriptModule(original_name=Conv2d)\n",
       "          (bn_depth): RecursiveScriptModule(original_name=BatchNorm2d)\n",
       "          (relu1): RecursiveScriptModule(original_name=ReLU)\n",
       "          (pointwise): RecursiveScriptModule(original_name=Conv2d)\n",
       "          (bn_point): RecursiveScriptModule(original_name=BatchNorm2d)\n",
       "          (relu2): RecursiveScriptModule(original_name=ReLU)\n",
       "        )\n",
       "      )\n",
       "      (1): RecursiveScriptModule(\n",
       "        original_name=SeparableConv2d\n",
       "        (block): RecursiveScriptModule(\n",
       "          original_name=Sequential\n",
       "          (depthwise): RecursiveScriptModule(original_name=Conv2d)\n",
       "          (bn_depth): RecursiveScriptModule(original_name=BatchNorm2d)\n",
       "          (relu1): RecursiveScriptModule(original_name=ReLU)\n",
       "          (pointwise): RecursiveScriptModule(original_name=Conv2d)\n",
       "          (bn_point): RecursiveScriptModule(original_name=BatchNorm2d)\n",
       "          (relu2): RecursiveScriptModule(original_name=ReLU)\n",
       "        )\n",
       "      )\n",
       "      (2): RecursiveScriptModule(original_name=Conv2d)\n",
       "    )\n",
       "  )\n",
       ")"
      ]
     },
     "execution_count": 53,
     "metadata": {},
     "output_type": "execute_result"
    }
   ],
   "source": [
    "device = torch.device(\"cuda\" if torch.cuda.is_available() else \"cpu\") \n",
    "\n",
    "# HRNet\n",
    "\n",
    "model = torch.jit.load(\"deeplab-weights.pth\")\n",
    "model = model.cpu()\n",
    "model.eval()\n"
   ]
  },
  {
   "cell_type": "code",
   "execution_count": 54,
   "metadata": {},
   "outputs": [],
   "source": [
    "import torchvision.transforms as transforms\n",
    "def transform_image(image):\n",
    "    my_transforms = transforms.Compose([transforms.ToTensor(),\n",
    "                                        transforms.Normalize(\n",
    "                                            [0.485, 0.456, 0.406],\n",
    "                                            [0.229, 0.224, 0.225])])\n",
    "    image_aux = image\n",
    "    return my_transforms(image_aux).unsqueeze(0).to(device)"
   ]
  },
  {
   "cell_type": "code",
   "execution_count": 55,
   "metadata": {},
   "outputs": [],
   "source": [
    "image = Image.open('dataset/Images/test/color_154.jpg')"
   ]
  },
  {
   "cell_type": "code",
   "execution_count": 56,
   "metadata": {},
   "outputs": [],
   "source": [
    "image = transforms.Resize((480,640))(image)\n",
    "tensor = transform_image(image=image)"
   ]
  },
  {
   "cell_type": "code",
   "execution_count": 57,
   "metadata": {},
   "outputs": [],
   "source": [
    "model.to(device)\n",
    "with torch.no_grad():\n",
    "    outputs = model(tensor)\n",
    "\n",
    "outputs = torch.argmax(outputs,1)"
   ]
  },
  {
   "cell_type": "code",
   "execution_count": 58,
   "metadata": {},
   "outputs": [],
   "source": [
    "mask = np.array(outputs.cpu())"
   ]
  },
  {
   "cell_type": "code",
   "execution_count": 59,
   "metadata": {},
   "outputs": [],
   "source": [
    "mask[mask==4]=255\n",
    "mask[mask==1]=150\n",
    "mask[mask==3]=76\n",
    "mask[mask==2]=29"
   ]
  },
  {
   "cell_type": "code",
   "execution_count": 60,
   "metadata": {},
   "outputs": [],
   "source": [
    "mask=np.reshape(mask,(480,640))"
   ]
  },
  {
   "cell_type": "code",
   "execution_count": 61,
   "metadata": {},
   "outputs": [
    {
     "data": {
      "image/png": "[encoded data removed]",
      "text/plain": [
       "<PIL.Image.Image image mode=L size=640x480 at 0x7F7AE01739B0>"
      ]
     },
     "execution_count": 61,
     "metadata": {},
     "output_type": "execute_result"
    }
   ],
   "source": [
    "maskShow = Image.fromarray(mask.astype('uint8'))\n",
    "maskShow"
   ]
  },
  {
   "cell_type": "code",
   "execution_count": 62,
   "metadata": {},
   "outputs": [],
   "source": [
    "maskrgb = maskShow.convert('RGB')\n",
    "maskrgb = np.array(maskrgb)\n",
    "maskrgb[(maskrgb==[150,150,150]).all(axis=2)]=[0,255,0]\n",
    "maskrgb[(maskrgb==[76,76,76]).all(axis=2)]=[255,0,0]\n",
    "maskrgb[(maskrgb==[29,29,29]).all(axis=2)]=[0,0,255]"
   ]
  },
  {
   "cell_type": "code",
   "execution_count": 63,
   "metadata": {
    "scrolled": true
   },
   "outputs": [
    {
     "data": {
      "image/png": "[encoded data removed]",
      "text/plain": [
       "<PIL.Image.Image image mode=RGB size=640x480 at 0x7F7AE01515F8>"
      ]
     },
     "execution_count": 63,
     "metadata": {},
     "output_type": "execute_result"
    }
   ],
   "source": [
    "maskRGBShow = Image.fromarray(maskrgb.astype('uint8'))\n",
    "maskRGBShow"
   ]
  },
  {
   "cell_type": "code",
   "execution_count": 43,
   "metadata": {},
   "outputs": [],
   "source": [
    "maskRGBShow.save('deeplab_pred_155.jpg')"
   ]
  },
  {
   "cell_type": "code",
   "execution_count": null,
   "metadata": {},
   "outputs": [],
   "source": []
  }
 ],
 "metadata": {
  "kernelspec": {
   "display_name": "Python 3",
   "language": "python",
   "name": "python3"
  },
  "language_info": {
   "codemirror_mode": {
    "name": "ipython",
    "version": 3
   },
   "file_extension": ".py",
   "mimetype": "text/x-python",
   "name": "python",
   "nbconvert_exporter": "python",
   "pygments_lexer": "ipython3",
   "version": "3.6.7"
  }
 },
 "nbformat": 4,
 "nbformat_minor": 4
}
